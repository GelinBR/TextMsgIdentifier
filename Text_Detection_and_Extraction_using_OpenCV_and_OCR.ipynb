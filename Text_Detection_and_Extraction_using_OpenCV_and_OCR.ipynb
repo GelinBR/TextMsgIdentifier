{
  "cells": [
    {
      "cell_type": "code",
      "execution_count": 4,
      "metadata": {
        "colab": {
          "base_uri": "https://localhost:8080/"
        },
        "id": "uIPyaEig0Kuk",
        "outputId": "45016c52-4b34-409d-cca4-cb2b7a0753e3"
      },
      "outputs": [
        {
          "name": "stdout",
          "output_type": "stream",
          "text": [
            "Requirement already satisfied: opencv-python in c:\\users\\yurig\\onedrive\\documentos\\programming projects\\text detection and extraction\\myenv\\lib\\site-packages (4.11.0.86)\n",
            "Requirement already satisfied: numpy>=1.21.2 in c:\\users\\yurig\\onedrive\\documentos\\programming projects\\text detection and extraction\\myenv\\lib\\site-packages (from opencv-python) (2.2.2)\n"
          ]
        },
        {
          "name": "stderr",
          "output_type": "stream",
          "text": [
            "\n",
            "[notice] A new release of pip is available: 24.0 -> 24.3.1\n",
            "[notice] To update, run: python.exe -m pip install --upgrade pip\n"
          ]
        },
        {
          "name": "stdout",
          "output_type": "stream",
          "text": [
            "Requirement already satisfied: pytesseract in c:\\users\\yurig\\onedrive\\documentos\\programming projects\\text detection and extraction\\myenv\\lib\\site-packages (0.3.13)\n",
            "Requirement already satisfied: packaging>=21.3 in c:\\users\\yurig\\onedrive\\documentos\\programming projects\\text detection and extraction\\myenv\\lib\\site-packages (from pytesseract) (24.2)\n",
            "Requirement already satisfied: Pillow>=8.0.0 in c:\\users\\yurig\\onedrive\\documentos\\programming projects\\text detection and extraction\\myenv\\lib\\site-packages (from pytesseract) (11.1.0)\n"
          ]
        },
        {
          "name": "stderr",
          "output_type": "stream",
          "text": [
            "\n",
            "[notice] A new release of pip is available: 24.0 -> 24.3.1\n",
            "[notice] To update, run: python.exe -m pip install --upgrade pip\n"
          ]
        }
      ],
      "source": [
        "!.\\myenv\\Scripts\\activate\n",
        "!pip install opencv-python\n",
        "!pip install pytesseract"
      ]
    },
    {
      "cell_type": "code",
      "execution_count": 24,
      "metadata": {
        "colab": {
          "base_uri": "https://localhost:8080/"
        },
        "id": "7f4hEQDp4qGa",
        "outputId": "18eaa079-bfbf-4f33-b2c3-0960c4a8e402"
      },
      "outputs": [],
      "source": [
        "# !sudo apt-get install tesseract-ocr # Linux"
      ]
    },
    {
      "cell_type": "code",
      "execution_count": 26,
      "metadata": {},
      "outputs": [
        {
          "name": "stdout",
          "output_type": "stream",
          "text": [
            "Requirement already satisfied: pytesseract in c:\\users\\yurig\\appdata\\local\\packages\\pythonsoftwarefoundation.python.3.11_qbz5n2kfra8p0\\localcache\\local-packages\\python311\\site-packages (0.3.13)\n",
            "Requirement already satisfied: packaging>=21.3 in c:\\users\\yurig\\appdata\\local\\packages\\pythonsoftwarefoundation.python.3.11_qbz5n2kfra8p0\\localcache\\local-packages\\python311\\site-packages (from pytesseract) (24.2)\n",
            "Requirement already satisfied: Pillow>=8.0.0 in c:\\users\\yurig\\appdata\\local\\packages\\pythonsoftwarefoundation.python.3.11_qbz5n2kfra8p0\\localcache\\local-packages\\python311\\site-packages (from pytesseract) (11.1.0)\n"
          ]
        }
      ],
      "source": [
        "# Windows\n",
        "!pip install pytesseract "
      ]
    },
    {
      "cell_type": "code",
      "execution_count": 27,
      "metadata": {},
      "outputs": [
        {
          "name": "stdout",
          "output_type": "stream",
          "text": [
            "Requirement already satisfied: pillow in c:\\users\\yurig\\appdata\\local\\packages\\pythonsoftwarefoundation.python.3.11_qbz5n2kfra8p0\\localcache\\local-packages\\python311\\site-packages (11.1.0)\n"
          ]
        }
      ],
      "source": [
        "# Optional for viewing image\n",
        "!pip install pillow"
      ]
    },
    {
      "cell_type": "code",
      "execution_count": 1,
      "metadata": {
        "id": "pt90zVn20UAe"
      },
      "outputs": [],
      "source": [
        "# Import required packages\n",
        "import cv2\n",
        "import pytesseract\n",
        "\n",
        "# For image viewing:\n",
        "from PIL import Image\n",
        "from IPython.display import display\n",
        "\n",
        "# Extras\n",
        "import os\n",
        "import shutil\n",
        "import re\n",
        "\n",
        "\n",
        "\n",
        "# vars\n",
        "path_input = '../data/input/'\n",
        "path_failed_items = '../data/filtered_fail/'\n",
        "path_not_a_image = '../data/filtered_fail/not_an_image/'\n",
        "path_filtered_in = '../data/filtered_in/'\n",
        "path_filtered_out = '../data/filtered_out/'\n",
        "path_filtered_log = '../data/filtered_log/'\n",
        "\n",
        "os.makedirs(path_filtered_out, exist_ok=True)\n"
      ]
    },
    {
      "cell_type": "code",
      "execution_count": 2,
      "metadata": {},
      "outputs": [
        {
          "name": "stdout",
          "output_type": "stream",
          "text": [
            "[MATCH] The pattern 'Today ##:## AM/PM' is present in the file: 0rja7kkon49c1.jpeg.\n",
            "[INFO] Processed 10 files.\n",
            "[MATCH] The pattern 'Today ##:## AM/PM' is present in the file: 0sm7llpz47zb1.jpg.\n",
            "[INFO] Processed 20 files.\n",
            "[INFO] Processed 30 files.\n",
            "[INFO] Processed 40 files.\n",
            "[MATCH] The pattern 'Today ##:## AM/PM' is present in the file: 0ypao7g4ytu71.jpg.\n",
            "[INFO] Processed 50 files.\n",
            "[MATCH] The pattern 'Today ##:## AM/PM' is present in the file: 12wgzzx1yv7c1.jpeg.\n",
            "[INFO] Processed 60 files.\n",
            "[MATCH] The pattern 'Today ##:## AM/PM' is present in the file: 1450a45o3qwb1.jpg.\n",
            "[MATCH] The pattern 'Today ##:## AM/PM' is present in the file: 15anuldb7syb1.png.\n",
            "[INFO] Processed 70 files.\n",
            "[MATCH] The pattern 'Today ##:## AM/PM' is present in the file: 17h0sl3v2d3c1.jpeg.\n",
            "[INFO] Processed 80 files.\n",
            "[INFO] Processed 90 files.\n",
            "[INFO] Processed 100 files.\n",
            "[MATCH] The pattern 'Today ##:## AM/PM' is present in the file: 1ehp78odp57c1.jpeg.\n",
            "[INFO] Processed 110 files.\n",
            "[MATCH] The pattern 'Today ##:## AM/PM' is present in the file: 1f3b1ptrltyb1.jpg.\n",
            "[MATCH] The pattern 'Today ##:## AM/PM' is present in the file: 1fvyz9vuvhfa1.jpg.\n",
            "[INFO] Processed 120 files.\n",
            "[MATCH] The pattern 'Today ##:## AM/PM' is present in the file: 1gmw4e0l2tub1.jpg.\n",
            "[MATCH] The pattern 'Today ##:## AM/PM' is present in the file: 1gvqmfo6eutb1.jpg.\n",
            "[MATCH] The pattern 'Today ##:## AM/PM' is present in the file: 1h73dd2wpevb1.jpg.\n",
            "[MATCH] The pattern 'Today ##:## AM/PM' is present in the file: 1hc8f3l9coub1.jpg.\n",
            "[MATCH] The pattern 'Today ##:## AM/PM' is present in the file: 1hnv73b9hy8c1.jpeg.\n",
            "[MATCH] The pattern 'Today ##:## AM/PM' is present in the file: 1hzc0wb1i8ub1.jpg.\n",
            "[INFO] Processed 130 files.\n",
            "[MATCH] The pattern 'Today ##:## AM/PM' is present in the file: 1i2qkpr8k0281.jpg.\n",
            "[INFO] Processed 140 files.\n",
            "[INFO] Processed 150 files.\n",
            "[MATCH] The pattern 'Today ##:## AM/PM' is present in the file: 1krksulr46wb1.jpg.\n",
            "[MATCH] The pattern 'Today ##:## AM/PM' is present in the file: 1lpb9et92nxb1.jpg.\n",
            "[INFO] Processed 160 files.\n",
            "[INFO] Processed 170 files.\n",
            "[MATCH] The pattern 'Today ##:## AM/PM' is present in the file: 1pzpawvr3urb1.jpg.\n",
            "[INFO] Processed 180 files.\n",
            "[MATCH] The pattern 'Today ##:## AM/PM' is present in the file: 1qklh6fity1c1.jpg.\n",
            "[MATCH] The pattern 'Today ##:## AM/PM' is present in the file: 1raqu090tl051.jpg.\n",
            "[INFO] Processed 190 files.\n",
            "[MATCH] The pattern 'Today ##:## AM/PM' is present in the file: 1sjdnwnghb4a1.jpg.\n",
            "[INFO] Processed 200 files.\n",
            "[MATCH] The pattern 'Today ##:## AM/PM' is present in the file: 1sx8o8j01z4c1.jpg.\n",
            "[MATCH] The pattern 'Today ##:## AM/PM' is present in the file: 1thmg5d479yb1.jpg.\n",
            "[INFO] Processed 210 files.\n"
          ]
        }
      ],
      "source": [
        "# Mention the installed location of Tesseract-OCR in your system\n",
        "#pytesseract.pytesseract.tesseract_cmd = '/bin/tesseract'\n",
        "pytesseract.pytesseract.tesseract_cmd = r'C:\\Program Files\\Tesseract-OCR\\tesseract.exe'\n",
        "\n",
        "# Get the list of files in the directory (Excluding directories)\n",
        "files = os.listdir(path_input)\n",
        "files = [f for f in files if os.path.isfile(os.path.join(path_input, f))]\n",
        "count = 0\n",
        "for file_name in files:\n",
        "    # Read image from which text needs to be extracted\n",
        "    count += 1\n",
        "    # Testing if image can be opened\n",
        "    try:\n",
        "        with Image.open(path_input + file_name) as img_look:\n",
        "            pass\n",
        "    except Exception as e:\n",
        "        print(f\"[ERROR] [NaI] Error processing file {file_name}: {e}\")\n",
        "        # Move the file to the filtered_out/not_an_image directory\n",
        "        shutil.move(path_input + file_name, path_not_a_image + file_name)\n",
        "\n",
        "        continue\n",
        "\n",
        "    try:\n",
        "        img = cv2.imread(path_input + file_name)\n",
        "\n",
        "        # Preprocessing the image starts\n",
        "\n",
        "        # Convert the image to gray scale\n",
        "        gray = cv2.cvtColor(img, cv2.COLOR_BGR2GRAY)\n",
        "\n",
        "        # Performing OTSU threshold\n",
        "        ret, thresh1 = cv2.threshold(gray, 0, 255, cv2.THRESH_OTSU | cv2.THRESH_BINARY_INV)\n",
        "\n",
        "        # Specify structure shape and kernel size.\n",
        "        # Kernel size increases or decreases the area\n",
        "        # of the rectangle to be detected.\n",
        "        # A smaller value like (10, 10) will detect\n",
        "        # each word instead of a sentence.\n",
        "        rect_kernel = cv2.getStructuringElement(cv2.MORPH_RECT, (18, 18))\n",
        "\n",
        "        # Applying dilation on the threshold image\n",
        "        dilation = cv2.dilate(thresh1, rect_kernel, iterations=1)\n",
        "\n",
        "        # Finding contours\n",
        "        contours, hierarchy = cv2.findContours(dilation, cv2.RETR_EXTERNAL, cv2.CHAIN_APPROX_NONE)\n",
        "\n",
        "        # Creating a copy of image\n",
        "        im2 = img.copy()\n",
        "\n",
        "        # A text file is created and flushed\n",
        "        txt_file_name = file_name.replace(\".jpg\", \".txt\").replace(\".png\", \".txt\").replace(\".jpeg\", \".txt\")\n",
        "        with open(path_filtered_log + txt_file_name, \"w\") as file:\n",
        "            file.write(\"\")\n",
        "\n",
        "        # Looping through the identified contours\n",
        "        # Then rectangular part is cropped and passed on\n",
        "        # to pytesseract for extracting text from it\n",
        "        # Extracted text is then written into the text file\n",
        "        for cnt in contours:\n",
        "            x, y, w, h = cv2.boundingRect(cnt)\n",
        "\n",
        "            # Drawing a rectangle on copied image\n",
        "            rect = cv2.rectangle(im2, (x, y), (x + w, y + h), (0, 255, 0), 2)\n",
        "\n",
        "            # Cropping the text block for giving input to OCR\n",
        "            cropped = im2[y:y + h, x:x + w]\n",
        "\n",
        "            # Open the file in append mode\n",
        "            with open(path_filtered_log + txt_file_name, \"a\") as file:\n",
        "                # Apply OCR on the cropped image\n",
        "                text = pytesseract.image_to_string(cropped)\n",
        "\n",
        "                # Appending the text into file\n",
        "                file.write(text)\n",
        "                file.write(\"\\n\")\n",
        "\n",
        "        # Detect for specific text content\n",
        "        with open(path_filtered_log + txt_file_name, \"r\") as file:\n",
        "            content = file.read()\n",
        "\n",
        "        pattern = r\"Today \\d{1,2}:\\d{2} [AaPp][Mm]\"\n",
        "        if re.search(pattern, content):\n",
        "            print(f\"[MATCH] The pattern 'Today ##:## AM/PM' is present in the file: {file_name}.\")\n",
        "            \n",
        "            # Wait for 5 seconds before moving the file\n",
        "            # time.sleep(5)\n",
        "            \n",
        "            # Move the file using shutil.move()\n",
        "            shutil.move(path_input + file_name, path_filtered_in + file_name)\n",
        "        else:\n",
        "            #print(f\"The pattern 'Today ##:## AM/PM' is not present in the file: {file_name}.\")\n",
        "            shutil.move(path_input + file_name, path_filtered_out + file_name)\n",
        "        \n",
        "        if count % 10 == 0:\n",
        "            print(f\"[INFO] Processed {count} files.\")\n",
        "    except Exception as e:\n",
        "        print(f\"[ERROR] [?] Error processing file {file_name}: {e}\")\n",
        "        # Move the file to the filtered_out directory\n",
        "        shutil.move(path_input + file_name, path_failed_items + file_name)"
      ]
    },
    {
      "cell_type": "code",
      "execution_count": null,
      "metadata": {},
      "outputs": [],
      "source": [
        "\n",
        "\n"
      ]
    },
    {
      "cell_type": "code",
      "execution_count": null,
      "metadata": {},
      "outputs": [],
      "source": []
    },
    {
      "cell_type": "code",
      "execution_count": null,
      "metadata": {},
      "outputs": [],
      "source": []
    }
  ],
  "metadata": {
    "colab": {
      "provenance": []
    },
    "kernelspec": {
      "display_name": "myenv",
      "language": "python",
      "name": "python3"
    },
    "language_info": {
      "codemirror_mode": {
        "name": "ipython",
        "version": 3
      },
      "file_extension": ".py",
      "mimetype": "text/x-python",
      "name": "python",
      "nbconvert_exporter": "python",
      "pygments_lexer": "ipython3",
      "version": "3.11.9"
    }
  },
  "nbformat": 4,
  "nbformat_minor": 0
}
